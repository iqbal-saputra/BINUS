{
 "cells": [
  {
   "cell_type": "code",
   "execution_count": 39,
   "metadata": {},
   "outputs": [],
   "source": [
    "import numpy as np\n",
    "import pandas as pd"
   ]
  },
  {
   "cell_type": "code",
   "execution_count": 40,
   "metadata": {},
   "outputs": [],
   "source": [
    "df = pd.read_excel('merged_data_cleaned.xlsx')"
   ]
  },
  {
   "cell_type": "code",
   "execution_count": 41,
   "metadata": {},
   "outputs": [],
   "source": [
    "# Pastikan kolom 'Waktu Pesanan Dibuat' dalam format datetime\n",
    "df['Waktu Pesanan Dibuat'] = pd.to_datetime(df['Waktu Pesanan Dibuat'])\n",
    "\n",
    "# Buat rentang tanggal lengkap dari min hingga max tanggal dalam dataset\n",
    "date_range = pd.date_range(start=df['Waktu Pesanan Dibuat'].min(), end=df['Waktu Pesanan Dibuat'].max(), freq='D')\n",
    "\n",
    "# Buat DataFrame dengan semua tanggal yang ada dalam rentang tersebut\n",
    "df_full_dates = pd.DataFrame({'Waktu Pesanan Dibuat': date_range})\n",
    "\n",
    "# Buat daftar varian produk yang valid\n",
    "variants = ['Ares', 'Apollo', 'Athena']\n",
    "\n",
    "# Buat kombinasi lengkap dari tanggal dan varian produk untuk memastikan setiap tanggal memiliki semua varian\n",
    "df_reference = pd.MultiIndex.from_product(\n",
    "    [df_full_dates['Waktu Pesanan Dibuat'], variants], names=['Waktu Pesanan Dibuat', 'Nama Produk']\n",
    ").to_frame(index=False)\n",
    "\n",
    "# Gabungkan dataset referensi dengan dataset asli menggunakan concat\n",
    "df_combined = pd.concat([df, df_reference]).drop_duplicates(subset=['Waktu Pesanan Dibuat', 'Nama Produk'], keep='first')\n",
    "\n",
    "# Isi nilai kosong dengan default (dummy values)\n",
    "dummy_values = {\n",
    "    'Harga Awal': 0.0,\n",
    "    'Harga Setelah Diskon': 0.0,\n",
    "    'Jumlah': 0,\n",
    "    'Total Harga Produk': 0.0,\n",
    "    'Total Diskon': 0.0,\n",
    "    'Diskon Dari Penjual': 0.0,\n",
    "    'Diskon Dari Shopee': 0.0,\n",
    "    'Jumlah Produk di Pesan': 0,\n",
    "    'Voucher Ditanggung Penjual': 0.0,\n",
    "    'Voucher Ditanggung Shopee': 0.0,\n",
    "    'Username (Pembeli)': 'dummy_user',\n",
    "    'Kota/Kabupaten': 'dummy_city',\n",
    "    'Provinsi': 'dummy_province',\n",
    "    'Latitude': 0.0,\n",
    "    'Longitude': 0.0\n",
    "}\n",
    "\n",
    "# Isi nilai NaN dengan nilai dummy yang sesuai\n",
    "df_combined.fillna(dummy_values, inplace=True)\n",
    "\n",
    "# Periksa jumlah baris setelah pengisian data\n",
    "new_filled_row_count = df_combined.shape[0]\n",
    "\n",
    "# Periksa jumlah unik tanggal dalam dataset setelah penambahan data\n",
    "unique_dates_count = df_combined['Waktu Pesanan Dibuat'].nunique()\n",
    "\n",
    "# Periksa jumlah unik kombinasi tanggal dan produk\n",
    "unique_date_product_count = df_combined.groupby('Waktu Pesanan Dibuat')['Nama Produk'].nunique().value_counts()"
   ]
  },
  {
   "cell_type": "code",
   "execution_count": 42,
   "metadata": {},
   "outputs": [
    {
     "data": {
      "text/plain": [
       "195"
      ]
     },
     "execution_count": 42,
     "metadata": {},
     "output_type": "execute_result"
    }
   ],
   "source": [
    "# Periksa jumlah baris setelah pengisian data\n",
    "filled_row_count = df_filled.shape[0]\n",
    "filled_row_count"
   ]
  },
  {
   "cell_type": "code",
   "execution_count": 43,
   "metadata": {},
   "outputs": [],
   "source": [
    "df.to_excel('merged_data_filled.xlsx', index=False)"
   ]
  }
 ],
 "metadata": {
  "kernelspec": {
   "display_name": "Python 3",
   "language": "python",
   "name": "python3"
  },
  "language_info": {
   "codemirror_mode": {
    "name": "ipython",
    "version": 3
   },
   "file_extension": ".py",
   "mimetype": "text/x-python",
   "name": "python",
   "nbconvert_exporter": "python",
   "pygments_lexer": "ipython3",
   "version": "3.11.11"
  }
 },
 "nbformat": 4,
 "nbformat_minor": 2
}
