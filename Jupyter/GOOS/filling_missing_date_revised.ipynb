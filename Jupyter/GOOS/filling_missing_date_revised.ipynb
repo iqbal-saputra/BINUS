{
 "cells": [
  {
   "cell_type": "code",
   "execution_count": 38,
   "metadata": {},
   "outputs": [],
   "source": [
    "import numpy as np\n",
    "import pandas as pd"
   ]
  },
  {
   "cell_type": "code",
   "execution_count": 39,
   "metadata": {},
   "outputs": [],
   "source": [
    "# Load dataset utama (shopee.xlsx)\n",
    "file_shopee = \"shopee.xlsx\"\n",
    "df_shopee = pd.read_excel(file_shopee)\n",
    "\n",
    "# Pastikan kolom 'Waktu Pesanan Dibuat' dalam format datetime\n",
    "df_shopee['Waktu Pesanan Dibuat'] = pd.to_datetime(df_shopee['Waktu Pesanan Dibuat'])\n",
    "\n",
    "# Buat rentang tanggal lengkap dari min hingga max dalam dataset\n",
    "date_range = pd.date_range(start=df_shopee['Waktu Pesanan Dibuat'].min(), end=df_shopee['Waktu Pesanan Dibuat'].max(), freq='D')\n",
    "\n",
    "# Buat DataFrame dengan semua tanggal yang ada dalam rentang tersebut\n",
    "df_full_dates = pd.DataFrame({'Waktu Pesanan Dibuat': date_range})\n",
    "\n",
    "# Buat daftar varian produk yang valid\n",
    "variants = ['Ares', 'Apollo', 'Athena']\n",
    "\n",
    "# Buat kombinasi lengkap dari tanggal dan varian produk untuk memastikan setiap tanggal memiliki semua varian\n",
    "df_reference = pd.MultiIndex.from_product(\n",
    "    [df_full_dates['Waktu Pesanan Dibuat'], variants], names=['Waktu Pesanan Dibuat', 'Nama Produk']\n",
    ").to_frame(index=False)\n",
    "\n",
    "# Cek daftar tanggal unik di dataset utama (shopee.xlsx)\n",
    "unique_dates_shopee = df_shopee['Waktu Pesanan Dibuat'].dt.date.unique()\n",
    "\n",
    "# Cek daftar tanggal unik di dataset referensi (tanggal yang seharusnya ada)\n",
    "unique_dates_reference = df_full_dates['Waktu Pesanan Dibuat'].dt.date.unique()\n",
    "\n",
    "# Cari tanggal yang ada di rentang waktu, tetapi tidak ada di dataset utama\n",
    "missing_dates = set(unique_dates_reference) - set(unique_dates_shopee)\n",
    "\n",
    "# Buat DataFrame dengan tanggal yang hilang\n",
    "missing_dates_df = pd.DataFrame({'Waktu Pesanan Dibuat': list(missing_dates)})\n",
    "\n",
    "# Buat semua kombinasi tanggal yang hilang dengan varian produk\n",
    "missing_date_product_combinations = pd.MultiIndex.from_product(\n",
    "    [missing_dates_df['Waktu Pesanan Dibuat'], variants], names=['Waktu Pesanan Dibuat', 'Nama Produk']\n",
    ").to_frame(index=False)\n",
    "\n",
    "# Tambahkan kolom-kolom lain dengan nilai default (dummy values)\n",
    "dummy_values = {\n",
    "    'Harga Awal': 0.0,\n",
    "    'Harga Setelah Diskon': 0.0,\n",
    "    'Jumlah': 0,\n",
    "    'Total Harga Produk': 0.0,\n",
    "    'Total Diskon': 0.0,\n",
    "    'Diskon Dari Penjual': 0.0,\n",
    "    'Diskon Dari Shopee': 0.0,\n",
    "    'Jumlah Produk di Pesan': 0,\n",
    "    'Voucher Ditanggung Penjual': 0.0,\n",
    "    'Voucher Ditanggung Shopee': 0.0,\n",
    "    'Username (Pembeli)': 'dummy_user',\n",
    "    'Kota/Kabupaten': 'dummy_city',\n",
    "    'Provinsi': 'dummy_province',\n",
    "    'Latitude': 0.0,\n",
    "    'Longitude': 0.0,\n",
    "    'Marketplace': 'Shopee'\n",
    "}\n",
    "\n",
    "# Isi nilai default pada data tanggal yang hilang\n",
    "for col in df_shopee.columns:\n",
    "    if col not in ['Waktu Pesanan Dibuat', 'Nama Produk']:\n",
    "        missing_date_product_combinations[col] = dummy_values.get(col, 0)\n",
    "\n",
    "# Konversi ulang ke datetime sebelum penggabungan\n",
    "missing_date_product_combinations['Waktu Pesanan Dibuat'] = pd.to_datetime(missing_date_product_combinations['Waktu Pesanan Dibuat'])\n",
    "\n",
    "# Gabungkan dataset utama dengan data yang berisi tanggal yang hilang\n",
    "df_fixed = pd.concat([df_shopee, missing_date_product_combinations], ignore_index=True)\n",
    "\n",
    "# Konversi ulang ke datetime setelah concat untuk memastikan tipe data tetap benar\n",
    "df_fixed['Waktu Pesanan Dibuat'] = pd.to_datetime(df_fixed['Waktu Pesanan Dibuat'])\n",
    "df_fixed['Waktu Pesanan Dibuat'] = df_fixed['Waktu Pesanan Dibuat'].dt.date # Ambil tanggal saja"
   ]
  },
  {
   "cell_type": "code",
   "execution_count": 40,
   "metadata": {},
   "outputs": [],
   "source": [
    "df = df_fixed.copy()\n",
    "\n",
    "# Convert date column to datetime format\n",
    "df[\"Waktu Pesanan Dibuat\"] = pd.to_datetime(df[\"Waktu Pesanan Dibuat\"]).dt.date\n",
    "\n",
    "# Aggregate the data by summing the quantity for each product per date\n",
    "df_aggregated = df.groupby([\"Waktu Pesanan Dibuat\", \"Nama Produk\"])[\"Jumlah\"].sum().reset_index()\n",
    "\n",
    "# Create a cross-tabulation to ensure all dates and products are represented\n",
    "date_product_pivot = df_aggregated.pivot(index=\"Waktu Pesanan Dibuat\", columns=\"Nama Produk\", values=\"Jumlah\").fillna(0)\n",
    "\n",
    "# Reset index for a cleaner display\n",
    "date_product_pivot = date_product_pivot.reset_index()\n",
    "\n",
    "date_product_pivot['Waktu Pesanan Dibuat'] = pd.to_datetime(date_product_pivot['Waktu Pesanan Dibuat']).dt.date # Ambil tanggal saja\n",
    "# date_product_pivot['Marketplace'] = 'Shopee'"
   ]
  },
  {
   "cell_type": "code",
   "execution_count": 41,
   "metadata": {},
   "outputs": [],
   "source": [
    "# Convert the pivoted DataFrame back to long format with only two columns\n",
    "df_long_format = date_product_pivot.melt(id_vars=[\"Waktu Pesanan Dibuat\"], var_name=\"Nama Produk\", value_name=\"Jumlah\")\n",
    "df_long_format['Marketplace'] = 'Shopee'\n",
    "# Sort the DataFrame by date in ascending order\n",
    "df_long_format = df_long_format.sort_values(by=\"Waktu Pesanan Dibuat\")"
   ]
  },
  {
   "cell_type": "code",
   "execution_count": 42,
   "metadata": {},
   "outputs": [
    {
     "name": "stdout",
     "output_type": "stream",
     "text": [
      "File sudah disimpan: missing_date_filled.xlsx\n"
     ]
    }
   ],
   "source": [
    "export_path = \"missing_date_filled.xlsx\"\n",
    "df_fixed.to_excel(export_path, index=False)\n",
    "date_product_pivot.to_excel(\"aggregated_data.xlsx\", index=False)\n",
    "df_long_format.to_excel(\"long_format_data.xlsx\", index=False)  \n",
    "print(f\"File sudah disimpan: {export_path}\")"
   ]
  }
 ],
 "metadata": {
  "kernelspec": {
   "display_name": "Python 3",
   "language": "python",
   "name": "python3"
  },
  "language_info": {
   "codemirror_mode": {
    "name": "ipython",
    "version": 3
   },
   "file_extension": ".py",
   "mimetype": "text/x-python",
   "name": "python",
   "nbconvert_exporter": "python",
   "pygments_lexer": "ipython3",
   "version": "3.11.11"
  }
 },
 "nbformat": 4,
 "nbformat_minor": 2
}
