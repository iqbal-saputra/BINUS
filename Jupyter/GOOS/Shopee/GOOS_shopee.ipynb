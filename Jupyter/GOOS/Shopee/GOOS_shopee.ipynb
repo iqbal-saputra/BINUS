{
 "cells": [
  {
   "cell_type": "code",
   "execution_count": 103,
   "metadata": {},
   "outputs": [],
   "source": [
    "import numpy as np\n",
    "import pandas as pd\n",
    "import matplotlib.pyplot as plt\n",
    "import seaborn as sns\n",
    "import re"
   ]
  },
  {
   "cell_type": "code",
   "execution_count": 104,
   "metadata": {},
   "outputs": [],
   "source": [
    "df = pd.read_excel('merged_data.xlsx', index_col=0)"
   ]
  },
  {
   "cell_type": "code",
   "execution_count": 105,
   "metadata": {},
   "outputs": [
    {
     "data": {
      "text/plain": [
       "['Status Pesanan',\n",
       " 'Alasan Pembatalan',\n",
       " 'Status Pembatalan/ Pengembalian',\n",
       " 'No. Resi',\n",
       " 'Opsi Pengiriman',\n",
       " 'Antar ke counter/ pick-up',\n",
       " 'Pesanan Harus Dikirimkan Sebelum (Menghindari keterlambatan)',\n",
       " 'Waktu Pengiriman Diatur',\n",
       " 'Waktu Pesanan Dibuat',\n",
       " 'Waktu Pembayaran Dilakukan',\n",
       " 'Metode Pembayaran',\n",
       " 'SKU Induk',\n",
       " 'Nama Produk',\n",
       " 'Nomor Referensi SKU',\n",
       " 'Nama Variasi',\n",
       " 'Harga Awal',\n",
       " 'Harga Setelah Diskon',\n",
       " 'Jumlah',\n",
       " 'Returned quantity',\n",
       " 'Total Harga Produk',\n",
       " 'Total Diskon',\n",
       " 'Diskon Dari Penjual',\n",
       " 'Diskon Dari Shopee',\n",
       " 'Berat Produk',\n",
       " 'Jumlah Produk di Pesan',\n",
       " 'Total Berat',\n",
       " 'Voucher Ditanggung Penjual',\n",
       " 'Cashback Koin',\n",
       " 'Voucher Ditanggung Shopee',\n",
       " 'Paket Diskon',\n",
       " 'Paket Diskon (Diskon dari Shopee)',\n",
       " 'Paket Diskon (Diskon dari Penjual)',\n",
       " 'Potongan Koin Shopee',\n",
       " 'Diskon Kartu Kredit',\n",
       " 'Ongkos Kirim Dibayar oleh Pembeli',\n",
       " 'Estimasi Potongan Biaya Pengiriman',\n",
       " 'Ongkos Kirim Pengembalian Barang',\n",
       " 'Total Pembayaran',\n",
       " 'Perkiraan Ongkos Kirim',\n",
       " 'Catatan dari Pembeli',\n",
       " 'Catatan',\n",
       " 'Username (Pembeli)',\n",
       " 'Nama Penerima',\n",
       " 'No. Telepon',\n",
       " 'Alamat Pengiriman',\n",
       " 'Kota/Kabupaten',\n",
       " 'Provinsi',\n",
       " 'Waktu Pesanan Selesai']"
      ]
     },
     "execution_count": 105,
     "metadata": {},
     "output_type": "execute_result"
    }
   ],
   "source": [
    "columns_tolist = df.columns.tolist()\n",
    "columns_tolist"
   ]
  },
  {
   "cell_type": "code",
   "execution_count": 106,
   "metadata": {},
   "outputs": [],
   "source": [
    "# Drop kolom yang tidak diperlukan langsung pada df tanpa variabel baru\n",
    "df.drop(columns=[\n",
    "    # 'Status Pesanan',\n",
    "    'Alasan Pembatalan',\n",
    "    'Status Pembatalan/ Pengembalian',\n",
    "    'No. Resi',\n",
    "    'Opsi Pengiriman',\n",
    "    'Antar ke counter/ pick-up',\n",
    "    'Pesanan Harus Dikirimkan Sebelum (Menghindari keterlambatan)',\n",
    "    'Waktu Pengiriman Diatur',\n",
    "    'Waktu Pembayaran Dilakukan',\n",
    "    'Metode Pembayaran',\n",
    "    'SKU Induk',\n",
    "    'Nomor Referensi SKU',\n",
    "    'Nama Variasi',\n",
    "    'Returned quantity',\n",
    "    'Berat Produk',\n",
    "    'Total Berat',\n",
    "    'Cashback Koin',\n",
    "    'Paket Diskon',\n",
    "    'Paket Diskon (Diskon dari Shopee)',\n",
    "    'Paket Diskon (Diskon dari Penjual)',\n",
    "    'Potongan Koin Shopee',\n",
    "    'Diskon Kartu Kredit',\n",
    "    'Ongkos Kirim Dibayar oleh Pembeli',\n",
    "    'Estimasi Potongan Biaya Pengiriman',\n",
    "    'Ongkos Kirim Pengembalian Barang',\n",
    "    'Total Pembayaran',\n",
    "    'Perkiraan Ongkos Kirim',\n",
    "    'Catatan dari Pembeli',\n",
    "    'Catatan',\n",
    "    'Nama Penerima',\n",
    "    'No. Telepon',\n",
    "    'Alamat Pengiriman',\n",
    "    'Waktu Pesanan Selesai'\n",
    "], inplace=True)\n"
   ]
  },
  {
   "cell_type": "code",
   "execution_count": 107,
   "metadata": {},
   "outputs": [],
   "source": [
    "df = df[df['Status Pesanan'] != 'Batal']"
   ]
  },
  {
   "cell_type": "code",
   "execution_count": 108,
   "metadata": {},
   "outputs": [],
   "source": [
    "df = df.drop(columns=['Status Pesanan'])"
   ]
  },
  {
   "cell_type": "code",
   "execution_count": 109,
   "metadata": {},
   "outputs": [],
   "source": [
    "df['Waktu Pesanan Dibuat'] = pd.to_datetime(df['Waktu Pesanan Dibuat']).dt.date"
   ]
  },
  {
   "cell_type": "code",
   "execution_count": 110,
   "metadata": {},
   "outputs": [],
   "source": [
    "def extract_variant(product_name):\n",
    "    match = re.search(r'\\b(Ares|Apollo|Athena)\\b', product_name, re.IGNORECASE)\n",
    "    return match.group(0) if match else None\n",
    "\n",
    "# Terapkan fungsi ke kolom 'Nama Produk'\n",
    "df['Nama Produk'] = df['Nama Produk'].apply(extract_variant)"
   ]
  },
  {
   "cell_type": "code",
   "execution_count": null,
   "metadata": {},
   "outputs": [],
   "source": [
    "# Dictionary referensi koordinat provinsi di Indonesia\n",
    "provinsi_koordinat = {\n",
    "    'ACEH': (4.36855, 97.0253),\n",
    "    'SUMATERA UTARA': (2.1153547, 99.5450974),\n",
    "    'SUMATERA BARAT': (-0.7399397, 100.8000051),\n",
    "    'RIAU': (0.2933466, 101.7068294),\n",
    "    'JAMBI': (-1.6101232, 103.6131203),\n",
    "    'SUMATERA SELATAN': (-3.0977119, 104.9142684),\n",
    "    'BENGKULU': (-3.57785, 102.2655),\n",
    "    'LAMPUNG': (-4.5585849, 105.4068),\n",
    "    'KEPULAUAN BANGKA BELITUNG': (-2.7410513, 106.4405872),\n",
    "    'KEPULAUAN RIAU': (3.9456514, 108.1428669),\n",
    "    'DKI JAKARTA': (-6.2088, 106.8456),\n",
    "    'JAWA BARAT': (-6.9248, 107.6071),\n",
    "    'JAWA TENGAH': (-7.150975, 110.3499255),\n",
    "    'DI YOGYAKARTA': (-7.797068, 110.3705293),\n",
    "    'JAWA TIMUR': (-7.24917, 112.75083),\n",
    "    'BANTEN': (-6.1202, 106.1505),\n",
    "    'BALI': (-8.3405, 115.092),\n",
    "    'NUSA TENGGARA BARAT': (-8.65293340, 117.36164760),\n",
    "    'NUSA TENGGARA TIMUR': (-9.5018, 119.8256),\n",
    "    'KALIMANTAN BARAT': (-0.0263, 109.3333),\n",
    "    'KALIMANTAN TENGAH': (-1.6814878, 113.3823545),\n",
    "    'KALIMANTAN SELATAN': (-3.092641, 114.603416),\n",
    "    'KALIMANTAN TIMUR': (0.5247839, 116.9317887),\n",
    "    'KALIMANTAN UTARA': (3.0166, 116.3319),\n",
    "    'SULAWESI UTARA': (1.4538, 124.8917),\n",
    "    'SULAWESI TENGAH': (-0.8375, 121.6255),\n",
    "    'SULAWESI SELATAN': (-5.1476651, 119.4221),\n",
    "    'SULAWESI TENGGARA': (-4.1434, 122.1746),\n",
    "    'GORONTALO': (0.6371, 123.262),\n",
    "    'SULAWESI BARAT': (-2.9521, 119.3793),\n",
    "    'MALUKU': (-3.2385, 129.475),\n",
    "    'MALUKU UTARA': (1.570999, 127.5101),\n",
    "    'PAPUA': (-4.269928, 133.550003),\n",
    "    'PAPUA BARAT': (-3.3333, 132.75),\n",
    "    'PAPUA TENGAH': (-3.75, 137.0),\n",
    "    'PAPUA PEGUNUNGAN': (-4.75, 140.0),\n",
    "    'PAPUA SELATAN': (-6.75, 134.0),\n",
    "    'PAPUA BARAT DAYA': (-0.875, 131.25),\n",
    "    'NUSA TENGGARA BARAT (NTB)': (-8.652933, 116.5604),\n",
    "    'BANGKA BELITUNG': (-2.7410513, 106.4405872),\n",
    "    'KEPULAUAN BANGKA BELITUNG (BABEL)': (-2.7410513, 106.4405872)\n",
    "}\n",
    "\n",
    "# Tambahkan kolom Latitude dan Longitude berdasarkan Provinsi\n",
    "df['Latitude'] = df['Provinsi'].map(lambda x: provinsi_koordinat.get(x, (None, None))[0])\n",
    "df['Longitude'] = df['Provinsi'].map(lambda x: provinsi_koordinat.get(x, (None, None))[1])"
   ]
  },
  {
   "cell_type": "code",
   "execution_count": 112,
   "metadata": {},
   "outputs": [],
   "source": [
    "df['Marketplace'] = 'Shopee'\n",
    "df['Total Harga Produk'] = df['Total Harga Produk'].str.replace('Rp', '').str.replace('.', '')\n",
    "df['Total Harga Produk'] = df['Total Harga Produk'].astype(float)\n",
    "df['Total Harga Produk'] = df.apply(\n",
    "    lambda row: row['Harga Setelah Diskon'] * row['Jumlah'] * 1000\n",
    "    if pd.isnull(row['Total Harga Produk']) \n",
    "    else row ['Total Harga Produk'], axis=1)"
   ]
  },
  {
   "cell_type": "code",
   "execution_count": 113,
   "metadata": {},
   "outputs": [],
   "source": [
    "df.to_excel(\"shopee.xlsx\", index=False)"
   ]
  },
  {
   "cell_type": "code",
   "execution_count": 114,
   "metadata": {},
   "outputs": [],
   "source": [
    "df2 = df.copy()"
   ]
  },
  {
   "cell_type": "code",
   "execution_count": 115,
   "metadata": {},
   "outputs": [],
   "source": [
    "start_date = df2['Waktu Pesanan Dibuat'].min()\n",
    "end_date = df2['Waktu Pesanan Dibuat'].max()\n",
    "all_dates = pd.date_range(start=start_date, end=end_date, freq='D')"
   ]
  },
  {
   "cell_type": "code",
   "execution_count": 116,
   "metadata": {},
   "outputs": [
    {
     "name": "stdout",
     "output_type": "stream",
     "text": [
      "2024-12-25 00:00:00\n",
      "2024-12-26 00:00:00\n",
      "2024-12-27 00:00:00\n",
      "2024-12-28 00:00:00\n",
      "2024-12-29 00:00:00\n",
      "2024-12-30 00:00:00\n",
      "2024-12-31 00:00:00\n",
      "2025-01-01 00:00:00\n",
      "2025-01-02 00:00:00\n",
      "2025-01-03 00:00:00\n",
      "2025-01-04 00:00:00\n",
      "2025-01-05 00:00:00\n",
      "2025-01-06 00:00:00\n",
      "2025-01-07 00:00:00\n",
      "2025-01-08 00:00:00\n",
      "2025-01-09 00:00:00\n",
      "2025-01-10 00:00:00\n",
      "2025-01-11 00:00:00\n",
      "2025-01-12 00:00:00\n",
      "2025-01-13 00:00:00\n",
      "2025-01-14 00:00:00\n",
      "2025-01-15 00:00:00\n",
      "2025-01-16 00:00:00\n",
      "2025-01-17 00:00:00\n",
      "2025-01-18 00:00:00\n",
      "2025-01-19 00:00:00\n",
      "2025-01-20 00:00:00\n",
      "2025-01-21 00:00:00\n",
      "2025-01-22 00:00:00\n",
      "2025-01-23 00:00:00\n",
      "2025-01-24 00:00:00\n",
      "2025-01-25 00:00:00\n",
      "2025-01-26 00:00:00\n",
      "2025-01-27 00:00:00\n",
      "2025-01-28 00:00:00\n",
      "2025-01-29 00:00:00\n",
      "2025-01-30 00:00:00\n",
      "2025-01-31 00:00:00\n",
      "2025-02-01 00:00:00\n",
      "2025-02-02 00:00:00\n",
      "2025-02-03 00:00:00\n",
      "2025-02-04 00:00:00\n",
      "2025-02-05 00:00:00\n",
      "2025-02-06 00:00:00\n",
      "2025-02-07 00:00:00\n",
      "2025-02-08 00:00:00\n",
      "2025-02-09 00:00:00\n",
      "2025-02-10 00:00:00\n",
      "2025-02-11 00:00:00\n",
      "2025-02-12 00:00:00\n",
      "2025-02-13 00:00:00\n",
      "2025-02-14 00:00:00\n",
      "2025-02-15 00:00:00\n",
      "2025-02-16 00:00:00\n",
      "2025-02-17 00:00:00\n",
      "2025-02-18 00:00:00\n",
      "2025-02-19 00:00:00\n",
      "2025-02-20 00:00:00\n",
      "2025-02-21 00:00:00\n",
      "2025-02-22 00:00:00\n",
      "2025-02-23 00:00:00\n",
      "2025-02-24 00:00:00\n",
      "2025-02-25 00:00:00\n",
      "2025-02-26 00:00:00\n",
      "2025-02-27 00:00:00\n"
     ]
    }
   ],
   "source": [
    "for i in all_dates:\n",
    "    print(i)"
   ]
  },
  {
   "cell_type": "code",
   "execution_count": 120,
   "metadata": {},
   "outputs": [],
   "source": [
    "# Menentukan rentang tanggal dari dataset\n",
    "date_range = pd.date_range(start=df[\"Waktu Pesanan Dibuat\"].min(), \n",
    "                           end=df[\"Waktu Pesanan Dibuat\"].max(), \n",
    "                           freq='D')\n",
    "\n",
    "# Membuat DataFrame baru dengan rentang tanggal lengkap\n",
    "full_dates_df = pd.DataFrame({\"Waktu Pesanan Dibuat\": date_range})\n",
    "\n",
    "# Konversi kolom 'Waktu Pesanan Dibuat' di df menjadi datetime\n",
    "df[\"Waktu Pesanan Dibuat\"] = pd.to_datetime(df[\"Waktu Pesanan Dibuat\"])\n",
    "\n",
    "# Menggabungkan dengan dataset utama untuk memastikan setiap tanggal ada dalam data\n",
    "df_full = full_dates_df.merge(df, on=\"Waktu Pesanan Dibuat\", how=\"left\")\n",
    "\n",
    "# Mengisi nilai NaN dengan 0 untuk kolom jumlah produk yang terjual\n",
    "df_full[\"Jumlah\"] = df_full[\"Jumlah\"].fillna(0)\n",
    "df_full[\"Total Harga Produk\"] = df_full[\"Total Harga Produk\"].fillna(0)"
   ]
  },
  {
   "cell_type": "code",
   "execution_count": 122,
   "metadata": {},
   "outputs": [],
   "source": [
    "df_full['Waktu Pesanan Dibuat'] = pd.to_datetime(df_full['Waktu Pesanan Dibuat']).dt.date"
   ]
  },
  {
   "cell_type": "code",
   "execution_count": 123,
   "metadata": {},
   "outputs": [],
   "source": [
    "df_full.to_excel(\"shopee_full.xlsx\", index=False)"
   ]
  },
  {
   "cell_type": "code",
   "execution_count": null,
   "metadata": {},
   "outputs": [],
   "source": [
    "# Daftar varian parfum\n",
    "varian_parfum = [\"Ares\", \"Athena\", \"Apollo\"]\n",
    "\n",
    "# Membuat DataFrame dengan kombinasi semua tanggal dan varian parfum\n",
    "full_dates_products = pd.MultiIndex.from_product(\n",
    "    [df_full[\"Waktu Pesanan Dibuat\"].unique(), varian_parfum], \n",
    "    names=[\"Waktu Pesanan Dibuat\", \"Nama Produk\"]\n",
    ").to_frame(index=False)\n",
    "\n",
    "# Menggabungkan dengan dataset utama untuk memastikan setiap tanggal memiliki semua varian parfum\n",
    "df_complete = full_dates_products.merge(df_full, on=[\"Waktu Pesanan Dibuat\", \"Nama Produk\"], how=\"left\")\n",
    "\n",
    "# Mengisi nilai NaN dengan 0 untuk kolom jumlah produk yang terjual\n",
    "fill_columns = [\"Jumlah\", \"Total Harga Produk\", \"Total Diskon\", \"Diskon Dari Penjual\", \"Diskon Dari Shopee\"]\n",
    "df_complete[fill_columns] = df_complete[fill_columns].fillna(0)"
   ]
  },
  {
   "cell_type": "code",
   "execution_count": 128,
   "metadata": {},
   "outputs": [],
   "source": [
    "# Mengisi nilai NaN dengan dummy values yang diberikan\n",
    "dummy_values = {\n",
    "    'Harga Awal': 0.0,\n",
    "    'Harga Setelah Diskon': 0.0,\n",
    "    'Jumlah': 0,\n",
    "    'Total Harga Produk': 0.0,\n",
    "    'Total Diskon': 0.0,\n",
    "    'Diskon Dari Penjual': 0.0,\n",
    "    'Diskon Dari Shopee': 0.0,\n",
    "    'Jumlah Produk di Pesan': 0,\n",
    "    'Voucher Ditanggung Penjual': 0.0,\n",
    "    'Voucher Ditanggung Shopee': 0.0,\n",
    "    'Username (Pembeli)': 'dummy_user',\n",
    "    'Kota/Kabupaten': 'dummy_city',\n",
    "    'Provinsi': 'dummy_province',\n",
    "    'Latitude': 0.0,\n",
    "    'Longitude': 0.0,\n",
    "    'Marketplace': 'Shopee'\n",
    "}\n",
    "\n",
    "df_complete.fillna(dummy_values, inplace=True)\n"
   ]
  },
  {
   "cell_type": "code",
   "execution_count": 134,
   "metadata": {},
   "outputs": [],
   "source": [
    "df_complete.rename(columns={\n",
    "    'Total Harga Produk': 'Omset'\n",
    "}, inplace=True)"
   ]
  },
  {
   "cell_type": "code",
   "execution_count": 129,
   "metadata": {},
   "outputs": [],
   "source": [
    "df_complete.to_excel('shopee_full2.xlsx', index=False)"
   ]
  },
  {
   "cell_type": "code",
   "execution_count": 135,
   "metadata": {},
   "outputs": [
    {
     "name": "stdout",
     "output_type": "stream",
     "text": [
      "<class 'pandas.core.frame.DataFrame'>\n",
      "RangeIndex: 295 entries, 0 to 294\n",
      "Data columns (total 18 columns):\n",
      " #   Column                      Non-Null Count  Dtype  \n",
      "---  ------                      --------------  -----  \n",
      " 0   Waktu Pesanan Dibuat        295 non-null    object \n",
      " 1   Nama Produk                 295 non-null    object \n",
      " 2   Harga Awal                  295 non-null    float64\n",
      " 3   Harga Setelah Diskon        295 non-null    float64\n",
      " 4   Jumlah                      295 non-null    float64\n",
      " 5   Omset                       295 non-null    float64\n",
      " 6   Total Diskon                295 non-null    float64\n",
      " 7   Diskon Dari Penjual         295 non-null    float64\n",
      " 8   Diskon Dari Shopee          295 non-null    float64\n",
      " 9   Jumlah Produk di Pesan      295 non-null    float64\n",
      " 10  Voucher Ditanggung Penjual  295 non-null    float64\n",
      " 11  Voucher Ditanggung Shopee   295 non-null    float64\n",
      " 12  Username (Pembeli)          295 non-null    object \n",
      " 13  Kota/Kabupaten              295 non-null    object \n",
      " 14  Provinsi                    295 non-null    object \n",
      " 15  Latitude                    295 non-null    float64\n",
      " 16  Longitude                   295 non-null    float64\n",
      " 17  Marketplace                 295 non-null    object \n",
      "dtypes: float64(12), object(6)\n",
      "memory usage: 41.6+ KB\n"
     ]
    }
   ],
   "source": [
    "df_complete.info()"
   ]
  }
 ],
 "metadata": {
  "kernelspec": {
   "display_name": "Python 3",
   "language": "python",
   "name": "python3"
  },
  "language_info": {
   "codemirror_mode": {
    "name": "ipython",
    "version": 3
   },
   "file_extension": ".py",
   "mimetype": "text/x-python",
   "name": "python",
   "nbconvert_exporter": "python",
   "pygments_lexer": "ipython3",
   "version": "3.11.11"
  }
 },
 "nbformat": 4,
 "nbformat_minor": 2
}
