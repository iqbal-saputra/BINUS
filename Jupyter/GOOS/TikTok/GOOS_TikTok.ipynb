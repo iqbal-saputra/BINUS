{
 "cells": [
  {
   "cell_type": "code",
   "execution_count": 345,
   "metadata": {},
   "outputs": [],
   "source": [
    "import numpy as np\n",
    "import pandas as pd\n",
    "import matplotlib.pyplot as plt\n",
    "import seaborn as sns\n",
    "import re"
   ]
  },
  {
   "cell_type": "code",
   "execution_count": 346,
   "metadata": {},
   "outputs": [
    {
     "name": "stdout",
     "output_type": "stream",
     "text": [
      "['OrderSKUList']\n"
     ]
    }
   ],
   "source": [
    "xls = pd.ExcelFile('tiktok_data.xlsx')\n",
    "print(xls.sheet_names)"
   ]
  },
  {
   "cell_type": "code",
   "execution_count": 347,
   "metadata": {},
   "outputs": [],
   "source": [
    "df = pd.read_excel(xls, sheet_name='OrderSKUList', header=0)  # Header dimulai dari baris kedua\n",
    "# df.head()"
   ]
  },
  {
   "cell_type": "code",
   "execution_count": 348,
   "metadata": {},
   "outputs": [],
   "source": [
    "df = df[df['Cancelation/Return Type'] != 'Cancel']"
   ]
  },
  {
   "cell_type": "code",
   "execution_count": 349,
   "metadata": {},
   "outputs": [],
   "source": [
    "df = df.drop(columns=['Cancelation/Return Type'])"
   ]
  },
  {
   "cell_type": "code",
   "execution_count": 350,
   "metadata": {},
   "outputs": [
    {
     "data": {
      "text/plain": [
       "(47, 60)"
      ]
     },
     "execution_count": 350,
     "metadata": {},
     "output_type": "execute_result"
    }
   ],
   "source": [
    "df.shape"
   ]
  },
  {
   "cell_type": "code",
   "execution_count": 351,
   "metadata": {},
   "outputs": [],
   "source": [
    "# Drop kolom yang tidak diperlukan langsung pada df tanpa variabel baru\n",
    "df.drop(columns=[\n",
    "    'Order ID',\n",
    "    'Order Status',\n",
    "    'Order Substatus',\n",
    "    'Normal or Pre-order',\n",
    "    'SKU ID',\n",
    "    'Seller SKU',\n",
    "    'Variation',\n",
    "    'Shipping Fee After Discount',\n",
    "    'Original Shipping Fee',\n",
    "    'Payment platform discount',\n",
    "    'Buyer Service Fee',\n",
    "    'Handling Fee',\n",
    "    'Shipping Insurance',\n",
    "    'Item Insurance',\n",
    "    'Order Amount',\n",
    "    'Order Refund Amount',\n",
    "    'Paid Time',\n",
    "    'RTS Time',\n",
    "    'Shipped Time',\n",
    "    'Delivered Time',\n",
    "    'Cancelled Time',\n",
    "    'Cancel By',\n",
    "    'Cancel Reason',\n",
    "    'Fulfillment Type',\n",
    "    'Warehouse Name',\n",
    "    'Tracking ID',\n",
    "    'Delivery Option',\n",
    "    'Shipping Provider Name',\n",
    "    'Buyer Message',\n",
    "    'Recipient',\n",
    "    'Phone #',\n",
    "    'Zipcode',\n",
    "    'Country',\n",
    "    'Districts',\n",
    "    'Villages',\n",
    "    'Detail Address',\n",
    "    'Additional address information',\n",
    "    'Payment Method',\n",
    "    'Weight(kg)',\n",
    "    'Product Category',\n",
    "    'Package ID',\n",
    "    'Seller Note',\n",
    "    'Checked Status',\n",
    "    'Checked Marked by',\n",
    "    'Tokopedia Invoice Number',\n",
    "    'Sku Quantity of return'\n",
    "], inplace=True)\n"
   ]
  },
  {
   "cell_type": "code",
   "execution_count": 352,
   "metadata": {},
   "outputs": [
    {
     "name": "stdout",
     "output_type": "stream",
     "text": [
      "<class 'pandas.core.frame.DataFrame'>\n",
      "Index: 47 entries, 0 to 58\n",
      "Data columns (total 14 columns):\n",
      " #   Column                          Non-Null Count  Dtype \n",
      "---  ------                          --------------  ----- \n",
      " 0   Product Name                    47 non-null     object\n",
      " 1   Quantity                        47 non-null     int64 \n",
      " 2   SKU Unit Original Price         47 non-null     object\n",
      " 3   SKU Subtotal Before Discount    47 non-null     object\n",
      " 4   SKU Platform Discount           47 non-null     object\n",
      " 5   SKU Seller Discount             47 non-null     object\n",
      " 6   SKU Subtotal After Discount     47 non-null     object\n",
      " 7   Shipping Fee Seller Discount    47 non-null     object\n",
      " 8   Shipping Fee Platform Discount  47 non-null     object\n",
      " 9   Created Time                    47 non-null     object\n",
      " 10  Buyer Username                  47 non-null     object\n",
      " 11  Province                        47 non-null     object\n",
      " 12  Regency and City                47 non-null     object\n",
      " 13  Purchase Channel                47 non-null     object\n",
      "dtypes: int64(1), object(13)\n",
      "memory usage: 5.5+ KB\n"
     ]
    }
   ],
   "source": [
    "df.info()"
   ]
  },
  {
   "cell_type": "code",
   "execution_count": 353,
   "metadata": {},
   "outputs": [],
   "source": [
    "df['Created Time'] = pd.to_datetime(df['Created Time'], format='%d/%m/%Y %H:%M:%S', dayfirst=True)\n"
   ]
  },
  {
   "cell_type": "code",
   "execution_count": 354,
   "metadata": {},
   "outputs": [
    {
     "name": "stdout",
     "output_type": "stream",
     "text": [
      "<class 'pandas.core.frame.DataFrame'>\n",
      "Index: 47 entries, 0 to 58\n",
      "Data columns (total 14 columns):\n",
      " #   Column                          Non-Null Count  Dtype         \n",
      "---  ------                          --------------  -----         \n",
      " 0   Product Name                    47 non-null     object        \n",
      " 1   Quantity                        47 non-null     int64         \n",
      " 2   SKU Unit Original Price         47 non-null     object        \n",
      " 3   SKU Subtotal Before Discount    47 non-null     object        \n",
      " 4   SKU Platform Discount           47 non-null     object        \n",
      " 5   SKU Seller Discount             47 non-null     object        \n",
      " 6   SKU Subtotal After Discount     47 non-null     object        \n",
      " 7   Shipping Fee Seller Discount    47 non-null     object        \n",
      " 8   Shipping Fee Platform Discount  47 non-null     object        \n",
      " 9   Created Time                    47 non-null     datetime64[ns]\n",
      " 10  Buyer Username                  47 non-null     object        \n",
      " 11  Province                        47 non-null     object        \n",
      " 12  Regency and City                47 non-null     object        \n",
      " 13  Purchase Channel                47 non-null     object        \n",
      "dtypes: datetime64[ns](1), int64(1), object(12)\n",
      "memory usage: 5.5+ KB\n"
     ]
    }
   ],
   "source": [
    "df.info()"
   ]
  },
  {
   "cell_type": "code",
   "execution_count": 355,
   "metadata": {},
   "outputs": [],
   "source": [
    "def extract_variant(product_name):\n",
    "    match = re.search(r'\\b(Ares|Apollo|Athena)\\b', product_name, re.IGNORECASE)\n",
    "    return match.group(0) if match else None\n",
    "\n",
    "# Terapkan fungsi ke kolom 'Nama Produk'\n",
    "df['Product Name'] = df['Product Name'].apply(extract_variant)"
   ]
  },
  {
   "cell_type": "code",
   "execution_count": 356,
   "metadata": {},
   "outputs": [
    {
     "data": {
      "text/plain": [
       "array(['Jakarta', 'Banten', 'Kalimantan Timur', 'Jawa Barat', 'West Java',\n",
       "       'Jawa Tengah', 'Sumatera Utara', 'Jakarta Province', 'DKI Jakarta',\n",
       "       'Daerah Khusus Ibukota Jakarta', 'Kalimantan Utara'], dtype=object)"
      ]
     },
     "execution_count": 356,
     "metadata": {},
     "output_type": "execute_result"
    }
   ],
   "source": [
    "df['Province'].unique()"
   ]
  },
  {
   "cell_type": "code",
   "execution_count": 357,
   "metadata": {},
   "outputs": [],
   "source": [
    "provinsi_koordinat = {\n",
    "    'ACEH': (4.36855, 97.0253),\n",
    "    'SUMATERA UTARA': (2.1153547, 99.5450974),\n",
    "    'SUMATERA BARAT': (-0.7399397, 100.8000051),\n",
    "    'RIAU': (0.2933466, 101.7068294),\n",
    "    'JAMBI': (-1.6101232, 103.6131203),\n",
    "    'SUMATERA SELATAN': (-3.0977119, 104.9142684),\n",
    "    'BENGKULU': (-3.57785, 102.2655),\n",
    "    'LAMPUNG': (-4.5585849, 105.4068),\n",
    "    'KEPULAUAN BANGKA BELITUNG': (-2.7410513, 106.4405872),\n",
    "    'KEPULAUAN RIAU': (3.9456514, 108.1428669),\n",
    "    'DKI JAKARTA': (-6.2088, 106.8456),\n",
    "    'JAWA BARAT': (-6.9248, 107.6071),\n",
    "    'JAWA TENGAH': (-7.150975, 110.3499255),\n",
    "    'DI YOGYAKARTA': (-7.797068, 110.3705293),\n",
    "    'JAWA TIMUR': (-7.24917, 112.75083),\n",
    "    'BANTEN': (-6.1202, 106.1505),\n",
    "    'BALI': (-8.3405, 115.092),\n",
    "    'NUSA TENGGARA BARAT': (-8.65293340, 117.36164760),\n",
    "    'NUSA TENGGARA TIMUR': (-9.5018, 119.8256),\n",
    "    'KALIMANTAN BARAT': (-0.0263, 109.3333),\n",
    "    'KALIMANTAN TENGAH': (-1.6814878, 113.3823545),\n",
    "    'KALIMANTAN SELATAN': (-3.092641, 114.603416),\n",
    "    'KALIMANTAN TIMUR': (0.5247839, 116.9317887),\n",
    "    'KALIMANTAN UTARA': (3.0166, 116.3319),\n",
    "    'SULAWESI UTARA': (1.4538, 124.8917),\n",
    "    'SULAWESI TENGAH': (-0.8375, 121.6255),\n",
    "    'SULAWESI SELATAN': (-5.1476651, 119.4221),\n",
    "    'SULAWESI TENGGARA': (-4.1434, 122.1746),\n",
    "    'GORONTALO': (0.6371, 123.262),\n",
    "    'SULAWESI BARAT': (-2.9521, 119.3793),\n",
    "    'MALUKU': (-3.2385, 129.475),\n",
    "    'MALUKU UTARA': (1.570999, 127.5101),\n",
    "    'PAPUA': (-4.269928, 133.550003),\n",
    "    'PAPUA BARAT': (-3.3333, 132.75),\n",
    "    'PAPUA TENGAH': (-3.75, 137.0),\n",
    "    'PAPUA PEGUNUNGAN': (-4.75, 140.0),\n",
    "    'PAPUA SELATAN': (-6.75, 134.0),\n",
    "    'PAPUA BARAT DAYA': (-0.875, 131.25),\n",
    "    'NUSA TENGGARA BARAT (NTB)': (-8.652933, 116.5604),\n",
    "    'BANGKA BELITUNG': (-2.7410513, 106.4405872),\n",
    "    'KEPULAUAN BANGKA BELITUNG (BABEL)': (-2.7410513, 106.4405872)\n",
    "}\n",
    "\n",
    "# Dictionary untuk normalisasi nama provinsi yang berbeda\n",
    "province_mapping = {\n",
    "    'Jakarta': 'DKI JAKARTA',\n",
    "    'Jakarta Province': 'DKI JAKARTA',\n",
    "    'DKI Jakarta': 'DKI JAKARTA',\n",
    "    'Daerah Khusus Ibukota Jakarta': 'DKI JAKARTA',\n",
    "    'West Java': 'JAWA BARAT',\n",
    "    'Jawa Barat': 'JAWA BARAT',\n",
    "    'Central Java': 'JAWA TENGAH',\n",
    "    'Jawa Tengah': 'JAWA TENGAH',\n",
    "    'Yogyakarta': 'DI YOGYAKARTA',\n",
    "    'East Java': 'JAWA TIMUR',\n",
    "    'Jawa Timur': 'JAWA TIMUR',\n",
    "    'Banten': 'BANTEN',\n",
    "    'Bali': 'BALI',\n",
    "    'West Sumatra': 'SUMATERA BARAT',\n",
    "    'Sumatera Barat': 'SUMATERA BARAT',\n",
    "    'North Sumatra': 'SUMATERA UTARA',\n",
    "    'Sumatera Utara': 'SUMATERA UTARA',\n",
    "    'Riau': 'RIAU',\n",
    "    'South Sumatra': 'SUMATERA SELATAN',\n",
    "    'Sumatera Selatan': 'SUMATERA SELATAN',\n",
    "    'Bengkulu': 'BENGKULU',\n",
    "    'Lampung': 'LAMPUNG',\n",
    "    'Jambi': 'JAMBI',\n",
    "    'West Nusa Tenggara': 'NUSA TENGGARA BARAT',\n",
    "    'Nusa Tenggara Barat': 'NUSA TENGGARA BARAT',\n",
    "    'East Nusa Tenggara': 'NUSA TENGGARA TIMUR',\n",
    "    'Nusa Tenggara Timur': 'NUSA TENGGARA TIMUR',\n",
    "    'West Kalimantan': 'KALIMANTAN BARAT',\n",
    "    'Kalimantan Barat': 'KALIMANTAN BARAT',\n",
    "    'Central Kalimantan': 'KALIMANTAN TENGAH',\n",
    "    'Kalimantan Tengah': 'KALIMANTAN TENGAH',\n",
    "    'South Kalimantan': 'KALIMANTAN SELATAN',\n",
    "    'Kalimantan Selatan': 'KALIMANTAN SELATAN',\n",
    "    'East Kalimantan': 'KALIMANTAN TIMUR',\n",
    "    'Kalimantan Timur': 'KALIMANTAN TIMUR',\n",
    "    'North Kalimantan': 'KALIMANTAN UTARA',\n",
    "    'Kalimantan Utara': 'KALIMANTAN UTARA',\n",
    "    'North Sulawesi': 'SULAWESI UTARA',\n",
    "    'Sulawesi Utara': 'SULAWESI UTARA',\n",
    "    'Central Sulawesi': 'SULAWESI TENGAH',\n",
    "    'Sulawesi Tengah': 'SULAWESI TENGAH',\n",
    "    'South Sulawesi': 'SULAWESI SELATAN',\n",
    "    'Sulawesi Selatan': 'SULAWESI SELATAN',\n",
    "    'Southeast Sulawesi': 'SULAWESI TENGGARA',\n",
    "    'Sulawesi Tenggara': 'SULAWESI TENGGARA',\n",
    "    'Gorontalo': 'GORONTALO',\n",
    "    'West Sulawesi': 'SULAWESI BARAT',\n",
    "    'Sulawesi Barat': 'SULAWESI BARAT',\n",
    "    'Maluku': 'MALUKU',\n",
    "    'North Maluku': 'MALUKU UTARA',\n",
    "    'Maluku Utara': 'MALUKU UTARA',\n",
    "    'Papua': 'PAPUA',\n",
    "    'West Papua': 'PAPUA BARAT',\n",
    "    'Papua Barat': 'PAPUA BARAT',\n",
    "}\n",
    "\n",
    "# Normalisasi nama provinsi\n",
    "df['Normalized_Province'] = df['Province'].map(lambda x: province_mapping.get(x, x))\n",
    "\n",
    "# Tambahkan kolom Latitude dan Longitude berdasarkan Provinsi yang sudah dinormalisasi\n",
    "df['Latitude'] = df['Normalized_Province'].map(lambda x: provinsi_koordinat.get(x, (None, None))[0])\n",
    "df['Longitude'] = df['Normalized_Province'].map(lambda x: provinsi_koordinat.get(x, (None, None))[1])\n",
    "\n",
    "df.drop(columns=['Province'], inplace=True)"
   ]
  },
  {
   "cell_type": "code",
   "execution_count": 358,
   "metadata": {},
   "outputs": [
    {
     "name": "stdout",
     "output_type": "stream",
     "text": [
      "<class 'pandas.core.frame.DataFrame'>\n",
      "Index: 47 entries, 0 to 58\n",
      "Data columns (total 16 columns):\n",
      " #   Column                          Non-Null Count  Dtype         \n",
      "---  ------                          --------------  -----         \n",
      " 0   Product Name                    47 non-null     object        \n",
      " 1   Quantity                        47 non-null     int64         \n",
      " 2   SKU Unit Original Price         47 non-null     object        \n",
      " 3   SKU Subtotal Before Discount    47 non-null     object        \n",
      " 4   SKU Platform Discount           47 non-null     object        \n",
      " 5   SKU Seller Discount             47 non-null     object        \n",
      " 6   SKU Subtotal After Discount     47 non-null     object        \n",
      " 7   Shipping Fee Seller Discount    47 non-null     object        \n",
      " 8   Shipping Fee Platform Discount  47 non-null     object        \n",
      " 9   Created Time                    47 non-null     datetime64[ns]\n",
      " 10  Buyer Username                  47 non-null     object        \n",
      " 11  Regency and City                47 non-null     object        \n",
      " 12  Purchase Channel                47 non-null     object        \n",
      " 13  Normalized_Province             47 non-null     object        \n",
      " 14  Latitude                        47 non-null     float64       \n",
      " 15  Longitude                       47 non-null     float64       \n",
      "dtypes: datetime64[ns](1), float64(2), int64(1), object(12)\n",
      "memory usage: 6.2+ KB\n"
     ]
    }
   ],
   "source": [
    "df.info()"
   ]
  },
  {
   "cell_type": "code",
   "execution_count": 359,
   "metadata": {},
   "outputs": [],
   "source": [
    "desired_order_columns = [\n",
    "    'Created Time', \n",
    "    'Product Name',\n",
    "    'SKU Unit Original Price',\n",
    "    'SKU Subtotal After Discount',\n",
    "    'Quantity',\n",
    "    'SKU Subtotal Before Discount',\n",
    "    'SKU Seller Discount',\n",
    "    'SKU Platform Discount',\n",
    "    'Shipping Fee Seller Discount',\n",
    "    'Shipping Fee Platform Discount',\n",
    "    'Buyer Username',\n",
    "    'Regency and City',\n",
    "    'Normalized_Province',\n",
    "    'Latitude',\n",
    "    'Longitude',\n",
    "    'Purchase Channel'\n",
    "]\n",
    "    \n",
    "df = df[desired_order_columns + [col for col in df.columns if col not in desired_order_columns]]"
   ]
  },
  {
   "cell_type": "code",
   "execution_count": 360,
   "metadata": {},
   "outputs": [
    {
     "name": "stdout",
     "output_type": "stream",
     "text": [
      "<class 'pandas.core.frame.DataFrame'>\n",
      "Index: 47 entries, 0 to 58\n",
      "Data columns (total 16 columns):\n",
      " #   Column                          Non-Null Count  Dtype         \n",
      "---  ------                          --------------  -----         \n",
      " 0   Created Time                    47 non-null     datetime64[ns]\n",
      " 1   Product Name                    47 non-null     object        \n",
      " 2   SKU Unit Original Price         47 non-null     object        \n",
      " 3   SKU Subtotal After Discount     47 non-null     object        \n",
      " 4   Quantity                        47 non-null     int64         \n",
      " 5   SKU Subtotal Before Discount    47 non-null     object        \n",
      " 6   SKU Seller Discount             47 non-null     object        \n",
      " 7   SKU Platform Discount           47 non-null     object        \n",
      " 8   Shipping Fee Seller Discount    47 non-null     object        \n",
      " 9   Shipping Fee Platform Discount  47 non-null     object        \n",
      " 10  Buyer Username                  47 non-null     object        \n",
      " 11  Regency and City                47 non-null     object        \n",
      " 12  Normalized_Province             47 non-null     object        \n",
      " 13  Latitude                        47 non-null     float64       \n",
      " 14  Longitude                       47 non-null     float64       \n",
      " 15  Purchase Channel                47 non-null     object        \n",
      "dtypes: datetime64[ns](1), float64(2), int64(1), object(12)\n",
      "memory usage: 6.2+ KB\n"
     ]
    }
   ],
   "source": [
    "df.info()"
   ]
  },
  {
   "cell_type": "code",
   "execution_count": 361,
   "metadata": {},
   "outputs": [],
   "source": [
    "df.columns = ['Tanggal Order', 'Nama Produk', 'Harga Awal', 'Harga Setelah Diskon', 'Jumlah', 'Omzet', 'Diskon dari Seller', 'Diskon dari Platform', 'Voucher dari Seller', 'Voucher dari Platform', 'Username Buyer', 'Kota/Kabupaten', 'Provinsi', 'Latitude', 'Longitude', 'Channel']  "
   ]
  },
  {
   "cell_type": "code",
   "execution_count": 362,
   "metadata": {},
   "outputs": [],
   "source": [
    "df['Tanggal Order'] = pd.to_datetime(df['Tanggal Order']).dt.date"
   ]
  },
  {
   "cell_type": "code",
   "execution_count": 363,
   "metadata": {},
   "outputs": [],
   "source": [
    "df['Harga Awal'] = df['Harga Awal'].str.replace('IDR', '').str.replace('.', '')\n",
    "df['Harga Awal'] = df['Harga Awal'].astype(float)\n",
    "\n",
    "df['Harga Setelah Diskon'] = df['Harga Setelah Diskon'].str.replace('IDR', '').str.replace('.', '')\n",
    "df['Harga Setelah Diskon'] = df['Harga Setelah Diskon'].astype(float)\n",
    "\n",
    "df['Omzet'] = df['Omzet'].str.replace('IDR', '').str.replace('.', '')\n",
    "df['Omzet'] = df['Omzet'].astype(float)\n",
    "\n",
    "df['Diskon dari Seller'] = df['Diskon dari Seller'].str.replace('IDR', '').str.replace('.', '')\n",
    "df['Diskon dari Seller'] = df['Diskon dari Seller'].astype(float)\n",
    "\n",
    "df['Diskon dari Platform'] = df['Diskon dari Platform'].str.replace('IDR', '').str.replace('.', '')\n",
    "df['Diskon dari Platform'] = df['Diskon dari Platform'].astype(float)\n",
    "\n",
    "df['Voucher dari Seller'] = df['Voucher dari Seller'].str.replace('IDR', '').str.replace('.', '')\n",
    "df['Voucher dari Seller'] = df['Voucher dari Seller'].astype(float)\n",
    "\n",
    "df['Voucher dari Platform'] = df['Voucher dari Platform'].str.replace('IDR', '').str.replace('.', '')\n",
    "df['Voucher dari Platform'] = df['Voucher dari Platform'].astype(float)"
   ]
  },
  {
   "cell_type": "code",
   "execution_count": 364,
   "metadata": {},
   "outputs": [
    {
     "data": {
      "text/plain": [
       "8127753.0"
      ]
     },
     "execution_count": 364,
     "metadata": {},
     "output_type": "execute_result"
    }
   ],
   "source": [
    "df['Omzet'].sum() - df['Diskon dari Seller'].sum() - df['Diskon dari Platform'].sum() - df['Voucher dari Seller'].sum() - df['Voucher dari Platform'].sum()"
   ]
  },
  {
   "cell_type": "code",
   "execution_count": 365,
   "metadata": {},
   "outputs": [],
   "source": [
    "df['Tanggal Order'] = pd.to_datetime(df['Tanggal Order'])\n",
    "df = df.sort_values(by='Tanggal Order', ascending=True)\n",
    "df['Tanggal Order'] = df['Tanggal Order'].dt.date"
   ]
  },
  {
   "cell_type": "code",
   "execution_count": 366,
   "metadata": {},
   "outputs": [],
   "source": [
    "df2 = df.copy()"
   ]
  },
  {
   "cell_type": "code",
   "execution_count": 367,
   "metadata": {},
   "outputs": [],
   "source": [
    "start_date = df2['Tanggal Order'].min()\n",
    "end_date = df2['Tanggal Order'].max()\n",
    "all_dates = pd.date_range(start=start_date, end=end_date, freq='D')"
   ]
  },
  {
   "cell_type": "code",
   "execution_count": 368,
   "metadata": {},
   "outputs": [],
   "source": [
    "# Menentukan rentang tanggal dari dataset\n",
    "date_range = pd.date_range(start=df[\"Tanggal Order\"].min(), \n",
    "                           end=df[\"Tanggal Order\"].max(), \n",
    "                           freq='D')\n",
    "\n",
    "# Membuat DataFrame baru dengan rentang tanggal lengkap\n",
    "full_dates_df = pd.DataFrame({\"Tanggal Order\": date_range})\n",
    "\n",
    "# Konversi kolom 'Tanggal Order' di df menjadi datetime\n",
    "df[\"Tanggal Order\"] = pd.to_datetime(df[\"Tanggal Order\"])\n",
    "\n",
    "# Menggabungkan dengan dataset utama untuk memastikan setiap tanggal ada dalam data\n",
    "df_full = full_dates_df.merge(df, on=\"Tanggal Order\", how=\"left\")\n",
    "\n",
    "# Mengisi nilai NaN dengan 0 untuk kolom jumlah produk yang terjual\n",
    "df_full[\"Jumlah\"] = df_full[\"Jumlah\"].fillna(0)\n",
    "df_full[\"Omzet\"] = df_full[\"Omzet\"].fillna(0)"
   ]
  },
  {
   "cell_type": "code",
   "execution_count": 369,
   "metadata": {},
   "outputs": [],
   "source": [
    "df_full['Tanggal Order'] = pd.to_datetime(df_full['Tanggal Order']).dt.date"
   ]
  },
  {
   "cell_type": "code",
   "execution_count": 370,
   "metadata": {},
   "outputs": [],
   "source": [
    "# Daftar varian parfum\n",
    "varian_parfum = [\"Ares\", \"Athena\", \"Apollo\"]\n",
    "\n",
    "# Membuat DataFrame dengan kombinasi semua tanggal dan varian parfum\n",
    "full_dates_products = pd.MultiIndex.from_product(\n",
    "    [df_full[\"Tanggal Order\"].unique(), varian_parfum], \n",
    "    names=[\"Tanggal Order\", \"Nama Produk\"]\n",
    ").to_frame(index=False)\n",
    "\n",
    "# Menggabungkan dengan dataset utama untuk memastikan setiap tanggal memiliki semua varian parfum\n",
    "df_complete = full_dates_products.merge(df_full, on=[\"Tanggal Order\", \"Nama Produk\"], how=\"left\")\n",
    "\n",
    "# Mengisi nilai NaN dengan 0 untuk kolom jumlah produk yang terjual\n",
    "fill_columns = [\"Jumlah\", \"Omzet\", \"Diskon dari Seller\", \"Diskon dari Platform\"]\n",
    "df_complete[fill_columns] = df_complete[fill_columns].fillna(0)"
   ]
  },
  {
   "cell_type": "code",
   "execution_count": 371,
   "metadata": {},
   "outputs": [],
   "source": [
    "# Mengisi nilai NaN dengan dummy values yang diberikan\n",
    "dummy_values = {\n",
    "    'Harga Awal': 0.0,\n",
    "    'Harga Setelah Diskon': 0.0,\n",
    "    'Jumlah': 0,\n",
    "    'Omzet': 0.0,\n",
    "    'Diskon dari Seller': 0.0,\n",
    "    'Diskon dari Platform': 0.0,\n",
    "    'Voucher dari Seller': 0.0,\n",
    "    'Voucher dari Platform': 0.0,\n",
    "    'Username Buyer': 'dummy_user',\n",
    "    'Kota/Kabupaten': 'dummy_city',\n",
    "    'Provinsi': 'dummy_province',\n",
    "    'Latitude': 0.0,\n",
    "    'Longitude': 0.0,\n",
    "    'Channel': 'TikTok'\n",
    "}\n",
    "\n",
    "df_complete.fillna(dummy_values, inplace=True)\n"
   ]
  },
  {
   "cell_type": "code",
   "execution_count": 372,
   "metadata": {},
   "outputs": [],
   "source": [
    "df_complete['Tanggal Order'] = pd.to_datetime(df_complete['Tanggal Order']).dt.date"
   ]
  },
  {
   "cell_type": "code",
   "execution_count": 373,
   "metadata": {},
   "outputs": [],
   "source": [
    "df_complete.to_excel('tiktok_cleaned.xlsx', index=False)"
   ]
  },
  {
   "cell_type": "code",
   "execution_count": 374,
   "metadata": {},
   "outputs": [],
   "source": [
    "df_aggregated = df_complete.copy()\n",
    "\n",
    "df_complete[\"Tanggal Order\"] = pd.to_datetime(df_complete[\"Tanggal Order\"]).dt.date\n",
    "\n",
    "df_aggregated = df_complete.groupby([\"Tanggal Order\", \"Nama Produk\"])[\"Jumlah\"].sum().reset_index()\n",
    "\n",
    "date_product_pivot = df_aggregated.pivot(index=\"Tanggal Order\", columns=\"Nama Produk\", values=\"Jumlah\").fillna(0)\n",
    "\n",
    "date_product_pivot = date_product_pivot.reset_index()\n",
    "\n",
    "date_product_pivot['Tanggal Order'] = pd.to_datetime(date_product_pivot['Tanggal Order']).dt.date # Ambil tanggal saja\n",
    "# date_product_pivot['Marketplace'] = 'TikTok'\n",
    "\n",
    "# Convert the pivoted DataFrame back to long format with only two columns\n",
    "df_long_format = date_product_pivot.melt(id_vars=[\"Tanggal Order\"], var_name=\"Nama Produk\", value_name=\"Jumlah\")\n",
    "df_long_format['Marketplace'] = 'TikTok'\n",
    "# Sort the DataFrame by date in ascending order\n",
    "df_long_format = df_long_format.sort_values(by=\"Tanggal Order\")\n",
    "date_product_pivot['Marketplace'] = 'TikTok'\n",
    "\n",
    "\n",
    "# export_path = \"missing_date_filled.xlsx\"\n",
    "# df_fixed.to_excel(export_path, index=False)\n",
    "# df_long_format.to_excel(\"long_format_data.xlsx\", index=False)  "
   ]
  },
  {
   "cell_type": "code",
   "execution_count": 375,
   "metadata": {},
   "outputs": [],
   "source": [
    "date_product_pivot.to_excel(\"tiktok_rekap.xlsx\", index=False)"
   ]
  }
 ],
 "metadata": {
  "kernelspec": {
   "display_name": "Python 3",
   "language": "python",
   "name": "python3"
  },
  "language_info": {
   "codemirror_mode": {
    "name": "ipython",
    "version": 3
   },
   "file_extension": ".py",
   "mimetype": "text/x-python",
   "name": "python",
   "nbconvert_exporter": "python",
   "pygments_lexer": "ipython3",
   "version": "3.11.11"
  }
 },
 "nbformat": 4,
 "nbformat_minor": 2
}
